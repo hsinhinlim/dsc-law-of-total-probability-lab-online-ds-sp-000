{
 "cells": [
  {
   "cell_type": "markdown",
   "metadata": {},
   "source": [
    "# Partitioning and Law of Total Probability - Lab\n",
    "\n",
    "## Introduction \n",
    "In this lab, you'll practice your knowledge of the law of total probability. In probability theory, the law (or formula) of total probability is a fundamental rule relating **marginal probabilities** to **conditional probabilities**.\n",
    "\n",
    "## Objectives\n",
    "\n",
    "You will be able to:\n",
    "\n",
    "* Differentiate between independent and dependent events\n",
    "* Perform partitioning based on known and unknown probabilities to solve a problem"
   ]
  },
  {
   "cell_type": "markdown",
   "metadata": {},
   "source": [
    "## Exercise 1\n",
    "Imagine you have two hats: one has 4 red balls and 6 green balls, the other has 6 red and 4 green. We toss a fair coin, if heads, you will pick a random ball from the first hat, if tails you will pick one from the second hat. \n",
    "\n",
    "What is the probability of getting a red ball?"
   ]
  },
  {
   "cell_type": "code",
   "execution_count": 8,
   "metadata": {},
   "outputs": [
    {
     "data": {
      "text/plain": [
       "0.5"
      ]
     },
     "execution_count": 8,
     "metadata": {},
     "output_type": "execute_result"
    }
   ],
   "source": [
    "# Your code here\n",
    "first_hat_red = 0.4 # the probability of picking a red ball out of the first hat\n",
    "second_hat_red = 0.6 # the probability of picking a red ball out of the second hat\n",
    "head = 0.5 # probability of coin landing head\n",
    "tail = 0.5 # probability of coin landing tail\n",
    "\n",
    "first_hat_red_given_head = first_hat_red * head # coin lands head and picking ball from hat are independent events\n",
    "second_hat_red_given_tail = second_hat_red * tail  #coin lands head and picking ball from hat are independent events\n",
    "\n",
    "result  = first_hat_red_given_head + second_hat_red_given_tail #because they are mutually exclusive, you cannot both throw heads and tail\n",
    "result"
   ]
  },
  {
   "cell_type": "markdown",
   "metadata": {},
   "source": [
    "## Exercise 2\n",
    "In games where at least one goal is made, a soccer team wins 60% of its games when it scores the first goal, and 10% of its games when the opposing team \n",
    "scores first. \n",
    "\n",
    "If the team scores the first goal about 30% of the time, what fraction of the games does it win?"
   ]
  },
  {
   "cell_type": "code",
   "execution_count": 7,
   "metadata": {},
   "outputs": [
    {
     "data": {
      "text/plain": [
       "0.25"
      ]
     },
     "execution_count": 7,
     "metadata": {},
     "output_type": "execute_result"
    }
   ],
   "source": [
    "# Your code here\n",
    "we_score_first_win = 0.6 #prob of winning when we score first goal\n",
    "opp_score_first_win = 0.1  #prob of winning when opponents score first\n",
    "score_first_freq = 0.3 #we score first 30% of the time\n",
    "no_score_first_freq = 0.7 #we don't score first 70% of the time\n",
    "\n",
    "# this is the law of total probability - the partition being whether we score first or not.\n",
    "win_games = score_first_freq*we_score_first_win + no_score_first_freq*opp_score_first_win\n",
    "\n",
    "win_games"
   ]
  },
  {
   "cell_type": "markdown",
   "metadata": {},
   "source": [
    "## Exercise 3"
   ]
  },
  {
   "cell_type": "markdown",
   "metadata": {},
   "source": [
    "In Europe, except for regular gas, cars often run on diesel as well. At a gas station in Paris; \n",
    "\n",
    "\n",
    "* 40% of the customers fill up with diesel (event G1) \n",
    "* 35% with gas \"Super 95\" (event G2)\n",
    "* 25% with gas \"Super 98\" (event G3). \n",
    "\n",
    "\n",
    "* 30% of the customers who buy diesel fill their tank completely (event F). \n",
    "* For \"Super 95\" and \"Super 98\", these numbers are  60% and 50%, respectively.\n",
    "\n",
    "\n",
    "- Compute the probability that the next customer completely fills their tank and buys Super 95. \n",
    "- Compute the probability that the next customer completely fills their tank\n",
    "- Given that the next customer fills their tank completely, compute the probability that they bought diesel. \n",
    "\n",
    "Hint: Consult the theorems for conditional probability, check for dependence or independence of events"
   ]
  },
  {
   "cell_type": "code",
   "execution_count": 11,
   "metadata": {},
   "outputs": [
    {
     "name": "stdout",
     "output_type": "stream",
     "text": [
      "0.21 0.45499999999999996 0.26373626373626374\n"
     ]
    }
   ],
   "source": [
    "# Your code here\n",
    "\n",
    "G1 = 0.4\n",
    "G2 = 0.35\n",
    "G3 = 0.25\n",
    "\n",
    "G1_full = 0.3 # this is Event F in the question, rename to G1_full to make it easier to follow\n",
    "G2_full = 0.6\n",
    "G3_full = 0.5\n",
    "\n",
    "# probability that customer fills their tank and buys Super 95\n",
    "# product rule because whether customer: 1) buys Super 95 and 2) fills their tank are independent events\n",
    "result1 = G2 * G2_full\n",
    "\n",
    "# probability that customer fills their tank\n",
    "result2 = G1*G1_full + G2*G2_full + G3*G3_full # done in 2 stages, this is effecively P(G1_full U G2_full U G3_full)\n",
    "\n",
    "#given the probability that the customer fills their tank, the probability that they bought diesel\n",
    "# we use result2 because result2 is the probability that a customer fills their tank\n",
    "result3 = (G1*G1_full)/result2\n",
    "\n",
    "print(result1, result2, result3)"
   ]
  },
  {
   "cell_type": "markdown",
   "metadata": {},
   "source": [
    "## Exercise 4"
   ]
  },
  {
   "cell_type": "markdown",
   "metadata": {},
   "source": [
    "United Airlines operates flights from JFK to Amsterdam, to Brussels, and to Copenhagen. As you may know, flights are overbooked fairly often. Let's denote the probability of the flight to Amsterdam being overbooked equal to 40%, the probability of the flight to Brussels being overbooked equal to 25%, and the probability of the flight to Copenhagen being overbooked equal to 35%. You can assume that these events of overbooking are independent events."
   ]
  },
  {
   "cell_type": "markdown",
   "metadata": {},
   "source": [
    "- Compute the probability that all the flights are overbooked.\n",
    "- Compute the probability of having at least one flight which is not overbooked.\n",
    "- Compute the probability that exactly one flight is overbooked."
   ]
  },
  {
   "cell_type": "code",
   "execution_count": 19,
   "metadata": {},
   "outputs": [
    {
     "name": "stdout",
     "output_type": "stream",
     "text": [
      "0.034999999999999996 0.965 0.45\n"
     ]
    }
   ],
   "source": [
    "# Your code here\n",
    "AMS = 0.4 #probability of a flight to Amsterdam being overbooked, given that we know a flight is overbooked\n",
    "BRU = 0.25 #probability of a flight to Brussels being overbooked\n",
    "COP = 0.35 #probability of a flight to Copenhagen being overbooked\n",
    "\n",
    "# probability that all flights are overbooked\n",
    "result_a = AMS * BRU * COP # product rule, because they are independent events\n",
    "\n",
    "#probability of having at least one flight which is not overbooked\n",
    "result_b = (1-result_a)\n",
    "\n",
    "#probability of having exactly one flight overbooked\n",
    "result_c = AMS*(1-BRU)*(1-COP) + (1-AMS)*BRU*(1-COP) + (1-AMS)*(1-BRU)*COP\n",
    "\n",
    "\n",
    "\n",
    "print(result_a, result_b, result_c)\n"
   ]
  },
  {
   "cell_type": "markdown",
   "metadata": {},
   "source": [
    "## Exercise 5\n",
    "You have three bags that each contain 100 marbles:\n",
    "\n",
    "- Bag 1 has 75 red and 25 blue marbles;\n",
    "- Bag 2 has 60 red and 40 blue marbles;\n",
    "- Bag 3 has 45 red and 55 blue marbles.\n",
    "\n",
    "You choose one of the bags at random and then pick a marble from the chosen bag, also at random. \n",
    "\n",
    "What is the probability that the chosen marble is red?\n"
   ]
  },
  {
   "cell_type": "code",
   "execution_count": 20,
   "metadata": {},
   "outputs": [
    {
     "data": {
      "text/plain": [
       "0.6"
      ]
     },
     "execution_count": 20,
     "metadata": {},
     "output_type": "execute_result"
    }
   ],
   "source": [
    "# Your code here\n",
    "bag_1 = 0.75\n",
    "bag_2 = 0.6\n",
    "bag_3 = 0.45\n",
    "\n",
    "result_red = bag_1*(1/3) + bag_2*(1/3) + bag_3*(1/3)\n",
    "result_red"
   ]
  },
  {
   "cell_type": "markdown",
   "metadata": {},
   "source": [
    "## Summary \n",
    "\n",
    "In this lab, you practiced conditional probability and its theorem with some simple problems. The key takeaway from this lab is to be able to identify random events as dependent or independent and calculating the probability of their occurrence using appropriate methods. Next, you'll take this knowledge a step further and run simulations with conditional and total probability. "
   ]
  }
 ],
 "metadata": {
  "hide_input": false,
  "kernelspec": {
   "display_name": "Python 3",
   "language": "python",
   "name": "python3"
  },
  "language_info": {
   "codemirror_mode": {
    "name": "ipython",
    "version": 3
   },
   "file_extension": ".py",
   "mimetype": "text/x-python",
   "name": "python",
   "nbconvert_exporter": "python",
   "pygments_lexer": "ipython3",
   "version": "3.6.9"
  },
  "toc": {
   "base_numbering": 1,
   "nav_menu": {},
   "number_sections": true,
   "sideBar": true,
   "skip_h1_title": false,
   "title_cell": "Table of Contents",
   "title_sidebar": "Contents",
   "toc_cell": false,
   "toc_position": {},
   "toc_section_display": true,
   "toc_window_display": false
  },
  "varInspector": {
   "cols": {
    "lenName": 16,
    "lenType": 16,
    "lenVar": 40
   },
   "kernels_config": {
    "python": {
     "delete_cmd_postfix": "",
     "delete_cmd_prefix": "del ",
     "library": "var_list.py",
     "varRefreshCmd": "print(var_dic_list())"
    },
    "r": {
     "delete_cmd_postfix": ") ",
     "delete_cmd_prefix": "rm(",
     "library": "var_list.r",
     "varRefreshCmd": "cat(var_dic_list()) "
    }
   },
   "types_to_exclude": [
    "module",
    "function",
    "builtin_function_or_method",
    "instance",
    "_Feature"
   ],
   "window_display": false
  }
 },
 "nbformat": 4,
 "nbformat_minor": 2
}
